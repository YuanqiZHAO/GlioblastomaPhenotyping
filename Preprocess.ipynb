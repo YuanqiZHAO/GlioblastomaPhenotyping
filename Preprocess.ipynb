{
 "cells": [
  {
   "cell_type": "code",
   "execution_count": 1,
   "metadata": {},
   "outputs": [],
   "source": [
    "import numpy as np\n",
    "import pandas as pd "
   ]
  },
  {
   "cell_type": "markdown",
   "metadata": {},
   "source": [
    "Data Source: https://xenabrowser.net/datapages/?cohort=TCGA%20Glioblastoma%20(GBM)&removeHub=https%3A%2F%2Fxena.treehouse.gi.ucsc.edu%3A443"
   ]
  },
  {
   "cell_type": "markdown",
   "metadata": {},
   "source": [
    "### Read in omics"
   ]
  },
  {
   "cell_type": "code",
   "execution_count": 2,
   "metadata": {},
   "outputs": [
    {
     "data": {
      "text/plain": [
       "(347, 12042)"
      ]
     },
     "execution_count": 2,
     "metadata": {},
     "output_type": "execute_result"
    }
   ],
   "source": [
    "exp = pd.read_csv('Filtered_data/Expression/HT_HG-U133A_filtered.txt',delimiter= '\\t',index_col=0)\n",
    "exp = exp.T\n",
    "exp.shape   #samples by genes\n",
    "# exp_seq[:3]"
   ]
  },
  {
   "cell_type": "code",
   "execution_count": 3,
   "metadata": {},
   "outputs": [
    {
     "data": {
      "text/plain": [
       "(270, 25978)"
      ]
     },
     "execution_count": 3,
     "metadata": {},
     "output_type": "execute_result"
    }
   ],
   "source": [
    "methy_1 = pd.read_csv('Filtered_data/Methylation/met_27_data_filtered.txt',delimiter= '\\t',index_col=0)\n",
    "methy_1 = methy_1.T\n",
    "methy_1.shape"
   ]
  },
  {
   "cell_type": "code",
   "execution_count": 4,
   "metadata": {},
   "outputs": [
    {
     "data": {
      "text/plain": [
       "(82, 25978)"
      ]
     },
     "execution_count": 4,
     "metadata": {},
     "output_type": "execute_result"
    }
   ],
   "source": [
    "methy_2 = pd.read_csv('Filtered_data/Methylation/met_450_data_filtered.txt',delimiter= '\\t',index_col=0)\n",
    "methy_2 = methy_2.T\n",
    "methy_2.shape"
   ]
  },
  {
   "cell_type": "code",
   "execution_count": 5,
   "metadata": {},
   "outputs": [
    {
     "data": {
      "text/plain": [
       "(577, 24776)"
      ]
     },
     "execution_count": 5,
     "metadata": {},
     "output_type": "execute_result"
    }
   ],
   "source": [
    "### gist2 not thresholded so that we have continuous values\n",
    "cnv = pd.read_csv('Filtered_data/CNV/cnv.txt',delimiter= '\\t',index_col=0)\n",
    "cnv = cnv.T\n",
    "cnv.shape"
   ]
  },
  {
   "cell_type": "code",
   "execution_count": 7,
   "metadata": {},
   "outputs": [
    {
     "data": {
      "text/plain": [
       "['IDH1']"
      ]
     },
     "execution_count": 7,
     "metadata": {},
     "output_type": "execute_result"
    }
   ],
   "source": [
    "[i for i in cnv.columns if 'IDH1' in i]"
   ]
  },
  {
   "cell_type": "markdown",
   "metadata": {},
   "source": [
    "### Intersection "
   ]
  },
  {
   "cell_type": "code",
   "execution_count": 7,
   "metadata": {},
   "outputs": [
    {
     "data": {
      "text/plain": [
       "Index(['TCGA-02-0001-01', 'TCGA-02-0003-01', 'TCGA-02-0007-01',\n",
       "       'TCGA-02-0009-01', 'TCGA-02-0010-01', 'TCGA-02-0011-01',\n",
       "       'TCGA-02-0014-01', 'TCGA-02-0021-01', 'TCGA-02-0024-01',\n",
       "       'TCGA-02-0027-01',\n",
       "       ...\n",
       "       'TCGA-76-4931-01', 'TCGA-76-4934-01', 'TCGA-76-4935-01',\n",
       "       'TCGA-76-6191-01', 'TCGA-76-6192-01', 'TCGA-76-6193-01',\n",
       "       'TCGA-76-6282-01', 'TCGA-76-6285-01', 'TCGA-81-5910-01',\n",
       "       'TCGA-87-5896-01'],\n",
       "      dtype='object', length=347)"
      ]
     },
     "execution_count": 7,
     "metadata": {},
     "output_type": "execute_result"
    }
   ],
   "source": [
    "exp_ind = exp.index\n",
    "cnv_ind = cnv.index\n",
    "exp_ind.intersection(cnv_ind)"
   ]
  },
  {
   "cell_type": "code",
   "execution_count": 8,
   "metadata": {},
   "outputs": [],
   "source": [
    "methy1_ind = methy_1.index\n",
    "methy2_ind = methy_2.index "
   ]
  },
  {
   "cell_type": "code",
   "execution_count": 9,
   "metadata": {},
   "outputs": [
    {
     "data": {
      "text/plain": [
       "Index(['TCGA-02-0001-01', 'TCGA-02-0003-01', 'TCGA-02-0007-01',\n",
       "       'TCGA-02-0009-01', 'TCGA-02-0010-01', 'TCGA-02-0011-01',\n",
       "       'TCGA-02-0014-01', 'TCGA-02-0021-01', 'TCGA-02-0024-01',\n",
       "       'TCGA-02-0027-01',\n",
       "       ...\n",
       "       'TCGA-32-4213-01', 'TCGA-32-4719-01', 'TCGA-41-2571-01',\n",
       "       'TCGA-41-2572-01', 'TCGA-41-2573-01', 'TCGA-41-2575-01',\n",
       "       'TCGA-41-3392-01', 'TCGA-41-3393-01', 'TCGA-41-3915-01',\n",
       "       'TCGA-41-4097-01'],\n",
       "      dtype='object', length=270)"
      ]
     },
     "execution_count": 9,
     "metadata": {},
     "output_type": "execute_result"
    }
   ],
   "source": [
    "exp_ind.intersection(methy1_ind)"
   ]
  },
  {
   "cell_type": "code",
   "execution_count": 10,
   "metadata": {},
   "outputs": [
    {
     "data": {
      "text/plain": [
       "82"
      ]
     },
     "execution_count": 10,
     "metadata": {},
     "output_type": "execute_result"
    }
   ],
   "source": [
    "len(exp_ind.intersection(methy2_ind))"
   ]
  },
  {
   "cell_type": "code",
   "execution_count": 11,
   "metadata": {},
   "outputs": [
    {
     "name": "stderr",
     "output_type": "stream",
     "text": [
      "/Users/yuanqizhao/opt/anaconda3/lib/python3.7/site-packages/ipykernel_launcher.py:1: FutureWarning: \n",
      ".ix is deprecated. Please use\n",
      ".loc for label based indexing or\n",
      ".iloc for positional indexing\n",
      "\n",
      "See the documentation here:\n",
      "http://pandas.pydata.org/pandas-docs/stable/user_guide/indexing.html#ix-indexer-is-deprecated\n",
      "  \"\"\"Entry point for launching an IPython kernel.\n"
     ]
    }
   ],
   "source": [
    "cnv = cnv.ix[list(exp_ind)]"
   ]
  },
  {
   "cell_type": "code",
   "execution_count": 12,
   "metadata": {},
   "outputs": [
    {
     "data": {
      "text/plain": [
       "(347, 24776)"
      ]
     },
     "execution_count": 12,
     "metadata": {},
     "output_type": "execute_result"
    }
   ],
   "source": [
    "cnv.shape"
   ]
  },
  {
   "cell_type": "code",
   "execution_count": 13,
   "metadata": {},
   "outputs": [
    {
     "data": {
      "text/html": [
       "<div>\n",
       "<style scoped>\n",
       "    .dataframe tbody tr th:only-of-type {\n",
       "        vertical-align: middle;\n",
       "    }\n",
       "\n",
       "    .dataframe tbody tr th {\n",
       "        vertical-align: top;\n",
       "    }\n",
       "\n",
       "    .dataframe thead th {\n",
       "        text-align: right;\n",
       "    }\n",
       "</style>\n",
       "<table border=\"1\" class=\"dataframe\">\n",
       "  <thead>\n",
       "    <tr style=\"text-align: right;\">\n",
       "      <th>Gene Symbol</th>\n",
       "      <th>ACAP3</th>\n",
       "      <th>ACTRT2</th>\n",
       "      <th>AGRN</th>\n",
       "      <th>ANKRD65</th>\n",
       "      <th>ATAD3A</th>\n",
       "      <th>ATAD3B</th>\n",
       "      <th>ATAD3C</th>\n",
       "      <th>AURKAIP1</th>\n",
       "      <th>B3GALT6</th>\n",
       "      <th>C1orf159</th>\n",
       "      <th>...</th>\n",
       "      <th>SMIM9</th>\n",
       "      <th>SNORA36A</th>\n",
       "      <th>SNORA56</th>\n",
       "      <th>TMLHE</th>\n",
       "      <th>VBP1</th>\n",
       "      <th>IL9R|ENSG00000124334.12</th>\n",
       "      <th>SPRY3|ENSG00000168939.6</th>\n",
       "      <th>VAMP7|ENSG00000124333.10</th>\n",
       "      <th>WASH6P|ENSG00000182484.10</th>\n",
       "      <th>WASIR1|ENSG00000185203.7</th>\n",
       "    </tr>\n",
       "  </thead>\n",
       "  <tbody>\n",
       "    <tr>\n",
       "      <td>TCGA-02-0001-01</td>\n",
       "      <td>0.242</td>\n",
       "      <td>0.242</td>\n",
       "      <td>0.242</td>\n",
       "      <td>0.242</td>\n",
       "      <td>0.242</td>\n",
       "      <td>0.242</td>\n",
       "      <td>0.242</td>\n",
       "      <td>0.242</td>\n",
       "      <td>0.242</td>\n",
       "      <td>0.242</td>\n",
       "      <td>...</td>\n",
       "      <td>0.076</td>\n",
       "      <td>0.076</td>\n",
       "      <td>0.076</td>\n",
       "      <td>0.076</td>\n",
       "      <td>0.076</td>\n",
       "      <td>0.076</td>\n",
       "      <td>0.076</td>\n",
       "      <td>0.076</td>\n",
       "      <td>0.076</td>\n",
       "      <td>0.076</td>\n",
       "    </tr>\n",
       "    <tr>\n",
       "      <td>TCGA-02-0003-01</td>\n",
       "      <td>0.007</td>\n",
       "      <td>0.007</td>\n",
       "      <td>0.007</td>\n",
       "      <td>0.007</td>\n",
       "      <td>0.007</td>\n",
       "      <td>0.007</td>\n",
       "      <td>0.007</td>\n",
       "      <td>0.007</td>\n",
       "      <td>0.007</td>\n",
       "      <td>0.007</td>\n",
       "      <td>...</td>\n",
       "      <td>-0.071</td>\n",
       "      <td>-0.071</td>\n",
       "      <td>-0.071</td>\n",
       "      <td>-0.071</td>\n",
       "      <td>-0.071</td>\n",
       "      <td>-0.071</td>\n",
       "      <td>-0.071</td>\n",
       "      <td>-0.071</td>\n",
       "      <td>-0.071</td>\n",
       "      <td>-0.071</td>\n",
       "    </tr>\n",
       "    <tr>\n",
       "      <td>TCGA-02-0007-01</td>\n",
       "      <td>-0.072</td>\n",
       "      <td>-0.072</td>\n",
       "      <td>-0.072</td>\n",
       "      <td>-0.072</td>\n",
       "      <td>-0.072</td>\n",
       "      <td>-0.072</td>\n",
       "      <td>-0.072</td>\n",
       "      <td>-0.072</td>\n",
       "      <td>-0.072</td>\n",
       "      <td>-0.072</td>\n",
       "      <td>...</td>\n",
       "      <td>-0.184</td>\n",
       "      <td>-0.184</td>\n",
       "      <td>-0.184</td>\n",
       "      <td>-0.184</td>\n",
       "      <td>-0.184</td>\n",
       "      <td>-0.184</td>\n",
       "      <td>-0.184</td>\n",
       "      <td>-0.184</td>\n",
       "      <td>-0.184</td>\n",
       "      <td>-0.184</td>\n",
       "    </tr>\n",
       "  </tbody>\n",
       "</table>\n",
       "<p>3 rows × 24776 columns</p>\n",
       "</div>"
      ],
      "text/plain": [
       "Gene Symbol      ACAP3  ACTRT2   AGRN  ANKRD65  ATAD3A  ATAD3B  ATAD3C  \\\n",
       "TCGA-02-0001-01  0.242   0.242  0.242    0.242   0.242   0.242   0.242   \n",
       "TCGA-02-0003-01  0.007   0.007  0.007    0.007   0.007   0.007   0.007   \n",
       "TCGA-02-0007-01 -0.072  -0.072 -0.072   -0.072  -0.072  -0.072  -0.072   \n",
       "\n",
       "Gene Symbol      AURKAIP1  B3GALT6  C1orf159  ...  SMIM9  SNORA36A  SNORA56  \\\n",
       "TCGA-02-0001-01     0.242    0.242     0.242  ...  0.076     0.076    0.076   \n",
       "TCGA-02-0003-01     0.007    0.007     0.007  ... -0.071    -0.071   -0.071   \n",
       "TCGA-02-0007-01    -0.072   -0.072    -0.072  ... -0.184    -0.184   -0.184   \n",
       "\n",
       "Gene Symbol      TMLHE   VBP1  IL9R|ENSG00000124334.12  \\\n",
       "TCGA-02-0001-01  0.076  0.076                    0.076   \n",
       "TCGA-02-0003-01 -0.071 -0.071                   -0.071   \n",
       "TCGA-02-0007-01 -0.184 -0.184                   -0.184   \n",
       "\n",
       "Gene Symbol      SPRY3|ENSG00000168939.6  VAMP7|ENSG00000124333.10  \\\n",
       "TCGA-02-0001-01                    0.076                     0.076   \n",
       "TCGA-02-0003-01                   -0.071                    -0.071   \n",
       "TCGA-02-0007-01                   -0.184                    -0.184   \n",
       "\n",
       "Gene Symbol      WASH6P|ENSG00000182484.10  WASIR1|ENSG00000185203.7  \n",
       "TCGA-02-0001-01                      0.076                     0.076  \n",
       "TCGA-02-0003-01                     -0.071                    -0.071  \n",
       "TCGA-02-0007-01                     -0.184                    -0.184  \n",
       "\n",
       "[3 rows x 24776 columns]"
      ]
     },
     "execution_count": 13,
     "metadata": {},
     "output_type": "execute_result"
    }
   ],
   "source": [
    "cnv[:3]"
   ]
  },
  {
   "cell_type": "markdown",
   "metadata": {},
   "source": [
    "### Combine Methylation"
   ]
  },
  {
   "cell_type": "code",
   "execution_count": 14,
   "metadata": {},
   "outputs": [
    {
     "data": {
      "text/plain": [
       "(352, 25978)"
      ]
     },
     "execution_count": 14,
     "metadata": {},
     "output_type": "execute_result"
    }
   ],
   "source": [
    "methy= pd.concat([methy_1,methy_2],join='inner',sort=False)\n",
    "methy.shape"
   ]
  },
  {
   "cell_type": "code",
   "execution_count": 15,
   "metadata": {},
   "outputs": [
    {
     "data": {
      "text/html": [
       "<div>\n",
       "<style scoped>\n",
       "    .dataframe tbody tr th:only-of-type {\n",
       "        vertical-align: middle;\n",
       "    }\n",
       "\n",
       "    .dataframe tbody tr th {\n",
       "        vertical-align: top;\n",
       "    }\n",
       "\n",
       "    .dataframe thead th {\n",
       "        text-align: right;\n",
       "    }\n",
       "</style>\n",
       "<table border=\"1\" class=\"dataframe\">\n",
       "  <thead>\n",
       "    <tr style=\"text-align: right;\">\n",
       "      <th>sample</th>\n",
       "      <th>cg00000292</th>\n",
       "      <th>cg00002426</th>\n",
       "      <th>cg00003994</th>\n",
       "      <th>cg00005847</th>\n",
       "      <th>cg00006414</th>\n",
       "      <th>cg00007981</th>\n",
       "      <th>cg00008493</th>\n",
       "      <th>cg00008713</th>\n",
       "      <th>cg00009407</th>\n",
       "      <th>cg00011459</th>\n",
       "      <th>...</th>\n",
       "      <th>cg27652350</th>\n",
       "      <th>cg27653134</th>\n",
       "      <th>cg27654142</th>\n",
       "      <th>cg27655855</th>\n",
       "      <th>cg27655905</th>\n",
       "      <th>cg27657283</th>\n",
       "      <th>cg27661264</th>\n",
       "      <th>cg27662379</th>\n",
       "      <th>cg27662877</th>\n",
       "      <th>cg27665659</th>\n",
       "    </tr>\n",
       "  </thead>\n",
       "  <tbody>\n",
       "    <tr>\n",
       "      <td>TCGA-02-0001-01</td>\n",
       "      <td>0.8261</td>\n",
       "      <td>0.1787</td>\n",
       "      <td>0.0415</td>\n",
       "      <td>0.3819</td>\n",
       "      <td>NaN</td>\n",
       "      <td>0.0378</td>\n",
       "      <td>0.9811</td>\n",
       "      <td>0.0186</td>\n",
       "      <td>0.0379</td>\n",
       "      <td>0.8588</td>\n",
       "      <td>...</td>\n",
       "      <td>0.3942</td>\n",
       "      <td>0.8940</td>\n",
       "      <td>0.0280</td>\n",
       "      <td>NaN</td>\n",
       "      <td>0.0493</td>\n",
       "      <td>0.0466</td>\n",
       "      <td>0.3636</td>\n",
       "      <td>0.0277</td>\n",
       "      <td>0.0441</td>\n",
       "      <td>0.0212</td>\n",
       "    </tr>\n",
       "    <tr>\n",
       "      <td>TCGA-02-0003-01</td>\n",
       "      <td>0.6966</td>\n",
       "      <td>0.5559</td>\n",
       "      <td>0.1039</td>\n",
       "      <td>0.8516</td>\n",
       "      <td>NaN</td>\n",
       "      <td>0.0506</td>\n",
       "      <td>0.9892</td>\n",
       "      <td>0.1278</td>\n",
       "      <td>0.0615</td>\n",
       "      <td>0.7187</td>\n",
       "      <td>...</td>\n",
       "      <td>0.7088</td>\n",
       "      <td>0.8879</td>\n",
       "      <td>0.0145</td>\n",
       "      <td>NaN</td>\n",
       "      <td>0.0424</td>\n",
       "      <td>0.0925</td>\n",
       "      <td>0.3700</td>\n",
       "      <td>0.0175</td>\n",
       "      <td>0.0407</td>\n",
       "      <td>0.0307</td>\n",
       "    </tr>\n",
       "    <tr>\n",
       "      <td>TCGA-02-0007-01</td>\n",
       "      <td>0.8267</td>\n",
       "      <td>0.0882</td>\n",
       "      <td>0.0255</td>\n",
       "      <td>0.4042</td>\n",
       "      <td>NaN</td>\n",
       "      <td>0.0510</td>\n",
       "      <td>0.9857</td>\n",
       "      <td>0.0185</td>\n",
       "      <td>0.0840</td>\n",
       "      <td>0.8629</td>\n",
       "      <td>...</td>\n",
       "      <td>0.2863</td>\n",
       "      <td>0.8693</td>\n",
       "      <td>0.0256</td>\n",
       "      <td>NaN</td>\n",
       "      <td>0.0812</td>\n",
       "      <td>0.1406</td>\n",
       "      <td>0.4556</td>\n",
       "      <td>0.0249</td>\n",
       "      <td>0.0296</td>\n",
       "      <td>0.0294</td>\n",
       "    </tr>\n",
       "  </tbody>\n",
       "</table>\n",
       "<p>3 rows × 25978 columns</p>\n",
       "</div>"
      ],
      "text/plain": [
       "sample           cg00000292  cg00002426  cg00003994  cg00005847  cg00006414  \\\n",
       "TCGA-02-0001-01      0.8261      0.1787      0.0415      0.3819         NaN   \n",
       "TCGA-02-0003-01      0.6966      0.5559      0.1039      0.8516         NaN   \n",
       "TCGA-02-0007-01      0.8267      0.0882      0.0255      0.4042         NaN   \n",
       "\n",
       "sample           cg00007981  cg00008493  cg00008713  cg00009407  cg00011459  \\\n",
       "TCGA-02-0001-01      0.0378      0.9811      0.0186      0.0379      0.8588   \n",
       "TCGA-02-0003-01      0.0506      0.9892      0.1278      0.0615      0.7187   \n",
       "TCGA-02-0007-01      0.0510      0.9857      0.0185      0.0840      0.8629   \n",
       "\n",
       "sample           ...  cg27652350  cg27653134  cg27654142  cg27655855  \\\n",
       "TCGA-02-0001-01  ...      0.3942      0.8940      0.0280         NaN   \n",
       "TCGA-02-0003-01  ...      0.7088      0.8879      0.0145         NaN   \n",
       "TCGA-02-0007-01  ...      0.2863      0.8693      0.0256         NaN   \n",
       "\n",
       "sample           cg27655905  cg27657283  cg27661264  cg27662379  cg27662877  \\\n",
       "TCGA-02-0001-01      0.0493      0.0466      0.3636      0.0277      0.0441   \n",
       "TCGA-02-0003-01      0.0424      0.0925      0.3700      0.0175      0.0407   \n",
       "TCGA-02-0007-01      0.0812      0.1406      0.4556      0.0249      0.0296   \n",
       "\n",
       "sample           cg27665659  \n",
       "TCGA-02-0001-01      0.0212  \n",
       "TCGA-02-0003-01      0.0307  \n",
       "TCGA-02-0007-01      0.0294  \n",
       "\n",
       "[3 rows x 25978 columns]"
      ]
     },
     "execution_count": 15,
     "metadata": {},
     "output_type": "execute_result"
    }
   ],
   "source": [
    "methy[:3]"
   ]
  },
  {
   "cell_type": "markdown",
   "metadata": {},
   "source": [
    "### Deal with NA"
   ]
  },
  {
   "cell_type": "markdown",
   "metadata": {},
   "source": [
    "#### row NA --> delete patients with too many missing data"
   ]
  },
  {
   "cell_type": "code",
   "execution_count": 16,
   "metadata": {},
   "outputs": [
    {
     "name": "stdout",
     "output_type": "stream",
     "text": [
      "2597 3348\n"
     ]
    }
   ],
   "source": [
    "print(min(methy.isnull().sum(axis=1)),max(methy.isnull().sum(axis=1)))"
   ]
  },
  {
   "cell_type": "markdown",
   "metadata": {},
   "source": [
    "#### column (probe) NA"
   ]
  },
  {
   "cell_type": "code",
   "execution_count": 17,
   "metadata": {},
   "outputs": [],
   "source": [
    "# thresh = int(methy.shape[0]*.05)\n",
    "thresh = 10"
   ]
  },
  {
   "cell_type": "code",
   "execution_count": 18,
   "metadata": {},
   "outputs": [
    {
     "data": {
      "text/plain": [
       "sample\n",
       "cg00000292      1\n",
       "cg00002426      1\n",
       "cg00003994      0\n",
       "cg00005847      0\n",
       "cg00006414    352\n",
       "             ... \n",
       "cg27657283      0\n",
       "cg27661264      0\n",
       "cg27662379      0\n",
       "cg27662877      0\n",
       "cg27665659      0\n",
       "Length: 25978, dtype: int64"
      ]
     },
     "execution_count": 18,
     "metadata": {},
     "output_type": "execute_result"
    }
   ],
   "source": [
    "null_s = methy.isnull().sum()\n",
    "null_s"
   ]
  },
  {
   "cell_type": "code",
   "execution_count": 19,
   "metadata": {},
   "outputs": [
    {
     "data": {
      "text/plain": [
       "Index(['cg00006414', 'cg00014837', 'cg00022606', 'cg00027674', 'cg00032666',\n",
       "       'cg00035347', 'cg00042156', 'cg00043080', 'cg00044729', 'cg00051623',\n",
       "       ...\n",
       "       'cg27592112', 'cg27592318', 'cg27596068', 'cg27600794', 'cg27606341',\n",
       "       'cg27608154', 'cg27610561', 'cg27638672', 'cg27649653', 'cg27655855'],\n",
       "      dtype='object', name='sample', length=2843)"
      ]
     },
     "execution_count": 19,
     "metadata": {},
     "output_type": "execute_result"
    }
   ],
   "source": [
    "delete_ls = null_s[null_s>thresh].index\n",
    "delete_ls"
   ]
  },
  {
   "cell_type": "code",
   "execution_count": 20,
   "metadata": {},
   "outputs": [],
   "source": [
    "methy_post = methy.drop(columns=delete_ls)"
   ]
  },
  {
   "cell_type": "code",
   "execution_count": 21,
   "metadata": {},
   "outputs": [
    {
     "data": {
      "text/plain": [
       "(352, 23135)"
      ]
     },
     "execution_count": 21,
     "metadata": {},
     "output_type": "execute_result"
    }
   ],
   "source": [
    "methy_post.shape"
   ]
  },
  {
   "cell_type": "code",
   "execution_count": 22,
   "metadata": {},
   "outputs": [
    {
     "name": "stdout",
     "output_type": "stream",
     "text": [
      "0 641\n"
     ]
    }
   ],
   "source": [
    "print(min(methy_post.isnull().sum(axis=1)),max(methy_post.isnull().sum(axis=1)))"
   ]
  },
  {
   "cell_type": "code",
   "execution_count": 23,
   "metadata": {},
   "outputs": [],
   "source": [
    "mask = methy_post.isnull()"
   ]
  },
  {
   "cell_type": "code",
   "execution_count": 24,
   "metadata": {},
   "outputs": [],
   "source": [
    "methy_post[mask] = np.nan"
   ]
  },
  {
   "cell_type": "code",
   "execution_count": 25,
   "metadata": {},
   "outputs": [
    {
     "data": {
      "text/plain": [
       "sample\n",
       "cg00000292    1\n",
       "cg00002426    1\n",
       "cg00003994    0\n",
       "cg00005847    0\n",
       "cg00007981    0\n",
       "             ..\n",
       "cg27657283    0\n",
       "cg27661264    0\n",
       "cg27662379    0\n",
       "cg27662877    0\n",
       "cg27665659    0\n",
       "Length: 23135, dtype: int64"
      ]
     },
     "execution_count": 25,
     "metadata": {},
     "output_type": "execute_result"
    }
   ],
   "source": [
    "methy_post.isnull().sum()"
   ]
  },
  {
   "cell_type": "markdown",
   "metadata": {},
   "source": [
    "##### imputation"
   ]
  },
  {
   "cell_type": "code",
   "execution_count": 26,
   "metadata": {},
   "outputs": [],
   "source": [
    "from sklearn.impute import SimpleImputer"
   ]
  },
  {
   "cell_type": "code",
   "execution_count": 27,
   "metadata": {},
   "outputs": [],
   "source": [
    "imp = SimpleImputer(missing_values=np.nan, strategy='mean')"
   ]
  },
  {
   "cell_type": "code",
   "execution_count": 28,
   "metadata": {},
   "outputs": [],
   "source": [
    "col_name= list(methy_post.columns)\n",
    "index_name = list(methy_post.index)"
   ]
  },
  {
   "cell_type": "code",
   "execution_count": 29,
   "metadata": {},
   "outputs": [],
   "source": [
    "methy_post = imp.fit_transform(methy_post)"
   ]
  },
  {
   "cell_type": "code",
   "execution_count": 30,
   "metadata": {},
   "outputs": [
    {
     "data": {
      "text/plain": [
       "False"
      ]
     },
     "execution_count": 30,
     "metadata": {},
     "output_type": "execute_result"
    }
   ],
   "source": [
    "np.isnan(methy_post).any()"
   ]
  },
  {
   "cell_type": "code",
   "execution_count": 31,
   "metadata": {},
   "outputs": [
    {
     "data": {
      "text/plain": [
       "(352, 23135)"
      ]
     },
     "execution_count": 31,
     "metadata": {},
     "output_type": "execute_result"
    }
   ],
   "source": [
    "methy_post.shape"
   ]
  },
  {
   "cell_type": "code",
   "execution_count": 32,
   "metadata": {},
   "outputs": [
    {
     "data": {
      "text/html": [
       "<div>\n",
       "<style scoped>\n",
       "    .dataframe tbody tr th:only-of-type {\n",
       "        vertical-align: middle;\n",
       "    }\n",
       "\n",
       "    .dataframe tbody tr th {\n",
       "        vertical-align: top;\n",
       "    }\n",
       "\n",
       "    .dataframe thead th {\n",
       "        text-align: right;\n",
       "    }\n",
       "</style>\n",
       "<table border=\"1\" class=\"dataframe\">\n",
       "  <thead>\n",
       "    <tr style=\"text-align: right;\">\n",
       "      <th></th>\n",
       "      <th>cg00000292</th>\n",
       "      <th>cg00002426</th>\n",
       "      <th>cg00003994</th>\n",
       "      <th>cg00005847</th>\n",
       "      <th>cg00007981</th>\n",
       "      <th>cg00008493</th>\n",
       "      <th>cg00008713</th>\n",
       "      <th>cg00009407</th>\n",
       "      <th>cg00011459</th>\n",
       "      <th>cg00012199</th>\n",
       "      <th>...</th>\n",
       "      <th>cg27651218</th>\n",
       "      <th>cg27652350</th>\n",
       "      <th>cg27653134</th>\n",
       "      <th>cg27654142</th>\n",
       "      <th>cg27655905</th>\n",
       "      <th>cg27657283</th>\n",
       "      <th>cg27661264</th>\n",
       "      <th>cg27662379</th>\n",
       "      <th>cg27662877</th>\n",
       "      <th>cg27665659</th>\n",
       "    </tr>\n",
       "  </thead>\n",
       "  <tbody>\n",
       "    <tr>\n",
       "      <td>TCGA-02-0001-01</td>\n",
       "      <td>0.8261</td>\n",
       "      <td>0.1787</td>\n",
       "      <td>0.0415</td>\n",
       "      <td>0.3819</td>\n",
       "      <td>0.0378</td>\n",
       "      <td>0.9811</td>\n",
       "      <td>0.0186</td>\n",
       "      <td>0.0379</td>\n",
       "      <td>0.8588</td>\n",
       "      <td>0.0238</td>\n",
       "      <td>...</td>\n",
       "      <td>0.9672</td>\n",
       "      <td>0.3942</td>\n",
       "      <td>0.8940</td>\n",
       "      <td>0.0280</td>\n",
       "      <td>0.0493</td>\n",
       "      <td>0.0466</td>\n",
       "      <td>0.3636</td>\n",
       "      <td>0.0277</td>\n",
       "      <td>0.0441</td>\n",
       "      <td>0.0212</td>\n",
       "    </tr>\n",
       "    <tr>\n",
       "      <td>TCGA-02-0003-01</td>\n",
       "      <td>0.6966</td>\n",
       "      <td>0.5559</td>\n",
       "      <td>0.1039</td>\n",
       "      <td>0.8516</td>\n",
       "      <td>0.0506</td>\n",
       "      <td>0.9892</td>\n",
       "      <td>0.1278</td>\n",
       "      <td>0.0615</td>\n",
       "      <td>0.7187</td>\n",
       "      <td>0.0206</td>\n",
       "      <td>...</td>\n",
       "      <td>0.9441</td>\n",
       "      <td>0.7088</td>\n",
       "      <td>0.8879</td>\n",
       "      <td>0.0145</td>\n",
       "      <td>0.0424</td>\n",
       "      <td>0.0925</td>\n",
       "      <td>0.3700</td>\n",
       "      <td>0.0175</td>\n",
       "      <td>0.0407</td>\n",
       "      <td>0.0307</td>\n",
       "    </tr>\n",
       "    <tr>\n",
       "      <td>TCGA-02-0007-01</td>\n",
       "      <td>0.8267</td>\n",
       "      <td>0.0882</td>\n",
       "      <td>0.0255</td>\n",
       "      <td>0.4042</td>\n",
       "      <td>0.0510</td>\n",
       "      <td>0.9857</td>\n",
       "      <td>0.0185</td>\n",
       "      <td>0.0840</td>\n",
       "      <td>0.8629</td>\n",
       "      <td>0.0222</td>\n",
       "      <td>...</td>\n",
       "      <td>0.9687</td>\n",
       "      <td>0.2863</td>\n",
       "      <td>0.8693</td>\n",
       "      <td>0.0256</td>\n",
       "      <td>0.0812</td>\n",
       "      <td>0.1406</td>\n",
       "      <td>0.4556</td>\n",
       "      <td>0.0249</td>\n",
       "      <td>0.0296</td>\n",
       "      <td>0.0294</td>\n",
       "    </tr>\n",
       "  </tbody>\n",
       "</table>\n",
       "<p>3 rows × 23135 columns</p>\n",
       "</div>"
      ],
      "text/plain": [
       "                 cg00000292  cg00002426  cg00003994  cg00005847  cg00007981  \\\n",
       "TCGA-02-0001-01      0.8261      0.1787      0.0415      0.3819      0.0378   \n",
       "TCGA-02-0003-01      0.6966      0.5559      0.1039      0.8516      0.0506   \n",
       "TCGA-02-0007-01      0.8267      0.0882      0.0255      0.4042      0.0510   \n",
       "\n",
       "                 cg00008493  cg00008713  cg00009407  cg00011459  cg00012199  \\\n",
       "TCGA-02-0001-01      0.9811      0.0186      0.0379      0.8588      0.0238   \n",
       "TCGA-02-0003-01      0.9892      0.1278      0.0615      0.7187      0.0206   \n",
       "TCGA-02-0007-01      0.9857      0.0185      0.0840      0.8629      0.0222   \n",
       "\n",
       "                 ...  cg27651218  cg27652350  cg27653134  cg27654142  \\\n",
       "TCGA-02-0001-01  ...      0.9672      0.3942      0.8940      0.0280   \n",
       "TCGA-02-0003-01  ...      0.9441      0.7088      0.8879      0.0145   \n",
       "TCGA-02-0007-01  ...      0.9687      0.2863      0.8693      0.0256   \n",
       "\n",
       "                 cg27655905  cg27657283  cg27661264  cg27662379  cg27662877  \\\n",
       "TCGA-02-0001-01      0.0493      0.0466      0.3636      0.0277      0.0441   \n",
       "TCGA-02-0003-01      0.0424      0.0925      0.3700      0.0175      0.0407   \n",
       "TCGA-02-0007-01      0.0812      0.1406      0.4556      0.0249      0.0296   \n",
       "\n",
       "                 cg27665659  \n",
       "TCGA-02-0001-01      0.0212  \n",
       "TCGA-02-0003-01      0.0307  \n",
       "TCGA-02-0007-01      0.0294  \n",
       "\n",
       "[3 rows x 23135 columns]"
      ]
     },
     "execution_count": 32,
     "metadata": {},
     "output_type": "execute_result"
    }
   ],
   "source": [
    "methy = pd.DataFrame(data=methy_post, index=index_name, columns=col_name)\n",
    "methy[:3]"
   ]
  },
  {
   "cell_type": "code",
   "execution_count": 33,
   "metadata": {},
   "outputs": [
    {
     "data": {
      "text/plain": [
       "0"
      ]
     },
     "execution_count": 33,
     "metadata": {},
     "output_type": "execute_result"
    }
   ],
   "source": [
    "sum(methy.isnull().sum())"
   ]
  },
  {
   "cell_type": "markdown",
   "metadata": {},
   "source": [
    "### Find Common Patients over 3 omics"
   ]
  },
  {
   "cell_type": "code",
   "execution_count": 34,
   "metadata": {},
   "outputs": [
    {
     "data": {
      "text/plain": [
       "347"
      ]
     },
     "execution_count": 34,
     "metadata": {},
     "output_type": "execute_result"
    }
   ],
   "source": [
    "len(np.unique(np.asarray(exp.index)))"
   ]
  },
  {
   "cell_type": "code",
   "execution_count": 35,
   "metadata": {},
   "outputs": [
    {
     "data": {
      "text/plain": [
       "347"
      ]
     },
     "execution_count": 35,
     "metadata": {},
     "output_type": "execute_result"
    }
   ],
   "source": [
    "len(np.unique(np.asarray(methy.index)))"
   ]
  },
  {
   "cell_type": "markdown",
   "metadata": {},
   "source": [
    "#### Methylation has duplicate samples --> We randomly chose one"
   ]
  },
  {
   "cell_type": "code",
   "execution_count": 36,
   "metadata": {},
   "outputs": [
    {
     "data": {
      "text/plain": [
       "(347, 23135)"
      ]
     },
     "execution_count": 36,
     "metadata": {},
     "output_type": "execute_result"
    }
   ],
   "source": [
    "methy = methy[~methy.index.duplicated(keep='first')]\n",
    "methy.shape"
   ]
  },
  {
   "cell_type": "code",
   "execution_count": 37,
   "metadata": {},
   "outputs": [
    {
     "data": {
      "text/plain": [
       "True"
      ]
     },
     "execution_count": 37,
     "metadata": {},
     "output_type": "execute_result"
    }
   ],
   "source": [
    "(np.sort(methy.index) == np.sort(exp.index)).all()"
   ]
  },
  {
   "cell_type": "code",
   "execution_count": 38,
   "metadata": {},
   "outputs": [
    {
     "data": {
      "text/plain": [
       "True"
      ]
     },
     "execution_count": 38,
     "metadata": {},
     "output_type": "execute_result"
    }
   ],
   "source": [
    "(np.sort(exp.index) == np.sort(cnv.index)).all()"
   ]
  },
  {
   "cell_type": "markdown",
   "metadata": {},
   "source": [
    "### Save processed files"
   ]
  },
  {
   "cell_type": "code",
   "execution_count": 39,
   "metadata": {},
   "outputs": [
    {
     "name": "stdout",
     "output_type": "stream",
     "text": [
      "(347, 12042) (347, 23135) (347, 24776)\n"
     ]
    }
   ],
   "source": [
    "# exp=exp.T\n",
    "# methy=methy.T\n",
    "# cnv= cnv.T\n",
    "print(exp.shape, methy.shape, cnv.shape)"
   ]
  },
  {
   "cell_type": "code",
   "execution_count": null,
   "metadata": {},
   "outputs": [],
   "source": [
    "import os\n",
    "os.mkdir('data')"
   ]
  },
  {
   "cell_type": "code",
   "execution_count": 40,
   "metadata": {},
   "outputs": [],
   "source": [
    "exp.to_csv('data/expression.txt', header=True, index=True, sep='\\t', mode='a')\n",
    "methy.to_csv('data/methylation.txt', header=True, index=True, sep='\\t', mode='a')\n",
    "cnv.to_csv('data/cnv.txt', header=True, index=True, sep='\\t', mode='a')"
   ]
  },
  {
   "cell_type": "markdown",
   "metadata": {},
   "source": [
    "### Clinical Data Preprocess"
   ]
  },
  {
   "cell_type": "code",
   "execution_count": 41,
   "metadata": {},
   "outputs": [
    {
     "data": {
      "text/html": [
       "<div>\n",
       "<style scoped>\n",
       "    .dataframe tbody tr th:only-of-type {\n",
       "        vertical-align: middle;\n",
       "    }\n",
       "\n",
       "    .dataframe tbody tr th {\n",
       "        vertical-align: top;\n",
       "    }\n",
       "\n",
       "    .dataframe thead th {\n",
       "        text-align: right;\n",
       "    }\n",
       "</style>\n",
       "<table border=\"1\" class=\"dataframe\">\n",
       "  <thead>\n",
       "    <tr style=\"text-align: right;\">\n",
       "      <th></th>\n",
       "      <th>CDE_DxAge</th>\n",
       "      <th>CDE_alk_chemoradiation_standard</th>\n",
       "      <th>CDE_chemo_adjuvant_alk</th>\n",
       "      <th>CDE_chemo_adjuvant_tmz</th>\n",
       "      <th>CDE_chemo_alk</th>\n",
       "      <th>CDE_chemo_alk_days</th>\n",
       "      <th>CDE_chemo_alk_long</th>\n",
       "      <th>CDE_chemo_tmz</th>\n",
       "      <th>CDE_chemo_tmz_days</th>\n",
       "      <th>CDE_chemo_tmz_long</th>\n",
       "      <th>...</th>\n",
       "      <th>_GENOMIC_ID_TCGA_GBM_exp_u133a</th>\n",
       "      <th>_GENOMIC_ID_TCGA_GBM_exp_HiSeqV2_PANCAN</th>\n",
       "      <th>_GENOMIC_ID_TCGA_GBM_RPPA_RBN</th>\n",
       "      <th>_GENOMIC_ID_TCGA_GBM_gistic2thd</th>\n",
       "      <th>_GENOMIC_ID_TCGA_GBM_PDMRNAseqCNV</th>\n",
       "      <th>_GENOMIC_ID_TCGA_GBM_mutation</th>\n",
       "      <th>_GENOMIC_ID_TCGA_GBM_exp_HiSeqV2_percentile</th>\n",
       "      <th>_GENOMIC_ID_TCGA_GBM_exp_HiSeqV2_exon</th>\n",
       "      <th>_GENOMIC_ID_TCGA_GBM_gistic2</th>\n",
       "      <th>_GENOMIC_ID_TCGA_GBM_hMethyl450</th>\n",
       "    </tr>\n",
       "    <tr>\n",
       "      <th>sampleID</th>\n",
       "      <th></th>\n",
       "      <th></th>\n",
       "      <th></th>\n",
       "      <th></th>\n",
       "      <th></th>\n",
       "      <th></th>\n",
       "      <th></th>\n",
       "      <th></th>\n",
       "      <th></th>\n",
       "      <th></th>\n",
       "      <th></th>\n",
       "      <th></th>\n",
       "      <th></th>\n",
       "      <th></th>\n",
       "      <th></th>\n",
       "      <th></th>\n",
       "      <th></th>\n",
       "      <th></th>\n",
       "      <th></th>\n",
       "      <th></th>\n",
       "      <th></th>\n",
       "    </tr>\n",
       "  </thead>\n",
       "  <tbody>\n",
       "    <tr>\n",
       "      <td>TCGA-02-0001-01</td>\n",
       "      <td>44.30</td>\n",
       "      <td>False</td>\n",
       "      <td>False</td>\n",
       "      <td>False</td>\n",
       "      <td>False</td>\n",
       "      <td>0.0</td>\n",
       "      <td>False</td>\n",
       "      <td>False</td>\n",
       "      <td>0.0</td>\n",
       "      <td>False</td>\n",
       "      <td>...</td>\n",
       "      <td>03c14838-bbab-4487-80c3-c5fdf6ec83f9</td>\n",
       "      <td>NaN</td>\n",
       "      <td>NaN</td>\n",
       "      <td>TCGA-02-0001-01C-01D-0182-01</td>\n",
       "      <td>NaN</td>\n",
       "      <td>NaN</td>\n",
       "      <td>NaN</td>\n",
       "      <td>NaN</td>\n",
       "      <td>TCGA-02-0001-01C-01D-0182-01</td>\n",
       "      <td>NaN</td>\n",
       "    </tr>\n",
       "    <tr>\n",
       "      <td>TCGA-02-0002-01</td>\n",
       "      <td>NaN</td>\n",
       "      <td>NaN</td>\n",
       "      <td>NaN</td>\n",
       "      <td>NaN</td>\n",
       "      <td>NaN</td>\n",
       "      <td>NaN</td>\n",
       "      <td>NaN</td>\n",
       "      <td>NaN</td>\n",
       "      <td>NaN</td>\n",
       "      <td>NaN</td>\n",
       "      <td>...</td>\n",
       "      <td>NaN</td>\n",
       "      <td>NaN</td>\n",
       "      <td>NaN</td>\n",
       "      <td>NaN</td>\n",
       "      <td>NaN</td>\n",
       "      <td>NaN</td>\n",
       "      <td>NaN</td>\n",
       "      <td>NaN</td>\n",
       "      <td>NaN</td>\n",
       "      <td>NaN</td>\n",
       "    </tr>\n",
       "    <tr>\n",
       "      <td>TCGA-02-0003-01</td>\n",
       "      <td>50.21</td>\n",
       "      <td>False</td>\n",
       "      <td>False</td>\n",
       "      <td>False</td>\n",
       "      <td>False</td>\n",
       "      <td>0.0</td>\n",
       "      <td>False</td>\n",
       "      <td>False</td>\n",
       "      <td>0.0</td>\n",
       "      <td>False</td>\n",
       "      <td>...</td>\n",
       "      <td>4298ad72-e8eb-4749-95da-cce602107724</td>\n",
       "      <td>NaN</td>\n",
       "      <td>TCGA-02-0003-01A-21-1898-20</td>\n",
       "      <td>TCGA-02-0003-01A-01D-0182-01</td>\n",
       "      <td>NaN</td>\n",
       "      <td>TCGA-02-0003-01A-01D-1490-08</td>\n",
       "      <td>NaN</td>\n",
       "      <td>NaN</td>\n",
       "      <td>TCGA-02-0003-01A-01D-0182-01</td>\n",
       "      <td>NaN</td>\n",
       "    </tr>\n",
       "  </tbody>\n",
       "</table>\n",
       "<p>3 rows × 128 columns</p>\n",
       "</div>"
      ],
      "text/plain": [
       "                 CDE_DxAge CDE_alk_chemoradiation_standard  \\\n",
       "sampleID                                                     \n",
       "TCGA-02-0001-01      44.30                           False   \n",
       "TCGA-02-0002-01        NaN                             NaN   \n",
       "TCGA-02-0003-01      50.21                           False   \n",
       "\n",
       "                CDE_chemo_adjuvant_alk CDE_chemo_adjuvant_tmz CDE_chemo_alk  \\\n",
       "sampleID                                                                      \n",
       "TCGA-02-0001-01                  False                  False         False   \n",
       "TCGA-02-0002-01                    NaN                    NaN           NaN   \n",
       "TCGA-02-0003-01                  False                  False         False   \n",
       "\n",
       "                 CDE_chemo_alk_days CDE_chemo_alk_long CDE_chemo_tmz  \\\n",
       "sampleID                                                               \n",
       "TCGA-02-0001-01                 0.0              False         False   \n",
       "TCGA-02-0002-01                 NaN                NaN           NaN   \n",
       "TCGA-02-0003-01                 0.0              False         False   \n",
       "\n",
       "                 CDE_chemo_tmz_days CDE_chemo_tmz_long  ...  \\\n",
       "sampleID                                                ...   \n",
       "TCGA-02-0001-01                 0.0              False  ...   \n",
       "TCGA-02-0002-01                 NaN                NaN  ...   \n",
       "TCGA-02-0003-01                 0.0              False  ...   \n",
       "\n",
       "                       _GENOMIC_ID_TCGA_GBM_exp_u133a  \\\n",
       "sampleID                                                \n",
       "TCGA-02-0001-01  03c14838-bbab-4487-80c3-c5fdf6ec83f9   \n",
       "TCGA-02-0002-01                                   NaN   \n",
       "TCGA-02-0003-01  4298ad72-e8eb-4749-95da-cce602107724   \n",
       "\n",
       "                _GENOMIC_ID_TCGA_GBM_exp_HiSeqV2_PANCAN  \\\n",
       "sampleID                                                  \n",
       "TCGA-02-0001-01                                     NaN   \n",
       "TCGA-02-0002-01                                     NaN   \n",
       "TCGA-02-0003-01                                     NaN   \n",
       "\n",
       "                _GENOMIC_ID_TCGA_GBM_RPPA_RBN _GENOMIC_ID_TCGA_GBM_gistic2thd  \\\n",
       "sampleID                                                                        \n",
       "TCGA-02-0001-01                           NaN    TCGA-02-0001-01C-01D-0182-01   \n",
       "TCGA-02-0002-01                           NaN                             NaN   \n",
       "TCGA-02-0003-01   TCGA-02-0003-01A-21-1898-20    TCGA-02-0003-01A-01D-0182-01   \n",
       "\n",
       "                _GENOMIC_ID_TCGA_GBM_PDMRNAseqCNV  \\\n",
       "sampleID                                            \n",
       "TCGA-02-0001-01                               NaN   \n",
       "TCGA-02-0002-01                               NaN   \n",
       "TCGA-02-0003-01                               NaN   \n",
       "\n",
       "                _GENOMIC_ID_TCGA_GBM_mutation  \\\n",
       "sampleID                                        \n",
       "TCGA-02-0001-01                           NaN   \n",
       "TCGA-02-0002-01                           NaN   \n",
       "TCGA-02-0003-01  TCGA-02-0003-01A-01D-1490-08   \n",
       "\n",
       "                _GENOMIC_ID_TCGA_GBM_exp_HiSeqV2_percentile  \\\n",
       "sampleID                                                      \n",
       "TCGA-02-0001-01                                         NaN   \n",
       "TCGA-02-0002-01                                         NaN   \n",
       "TCGA-02-0003-01                                         NaN   \n",
       "\n",
       "                _GENOMIC_ID_TCGA_GBM_exp_HiSeqV2_exon  \\\n",
       "sampleID                                                \n",
       "TCGA-02-0001-01                                   NaN   \n",
       "TCGA-02-0002-01                                   NaN   \n",
       "TCGA-02-0003-01                                   NaN   \n",
       "\n",
       "                 _GENOMIC_ID_TCGA_GBM_gistic2  _GENOMIC_ID_TCGA_GBM_hMethyl450  \n",
       "sampleID                                                                        \n",
       "TCGA-02-0001-01  TCGA-02-0001-01C-01D-0182-01                              NaN  \n",
       "TCGA-02-0002-01                           NaN                              NaN  \n",
       "TCGA-02-0003-01  TCGA-02-0003-01A-01D-0182-01                              NaN  \n",
       "\n",
       "[3 rows x 128 columns]"
      ]
     },
     "execution_count": 41,
     "metadata": {},
     "output_type": "execute_result"
    }
   ],
   "source": [
    "clinical = pd.read_csv('data/GBM_clinicalMatrix',delimiter= '\\t',index_col=0)\n",
    "clinical[:3]"
   ]
  },
  {
   "cell_type": "code",
   "execution_count": 42,
   "metadata": {},
   "outputs": [
    {
     "name": "stdout",
     "output_type": "stream",
     "text": [
      "GeneExp_Subtype\n",
      "histological_type\n",
      "new_neoplasm_event_type\n",
      "sample_type\n",
      "sample_type_id\n"
     ]
    }
   ],
   "source": [
    "for i in list(clinical.columns):\n",
    "    if 'type' in i:\n",
    "        print(i)"
   ]
  },
  {
   "cell_type": "code",
   "execution_count": 43,
   "metadata": {},
   "outputs": [
    {
     "data": {
      "text/plain": [
       "sampleID\n",
       "TCGA-02-0001-01      Classical\n",
       "TCGA-02-0002-01         Neural\n",
       "TCGA-02-0003-01      Proneural\n",
       "TCGA-02-0004-01    Mesenchymal\n",
       "TCGA-02-0006-01    Mesenchymal\n",
       "                      ...     \n",
       "TCGA-87-5896-01      Classical\n",
       "TCGA-OX-A56R-01            NaN\n",
       "TCGA-RR-A6KA-01            NaN\n",
       "TCGA-RR-A6KB-01            NaN\n",
       "TCGA-RR-A6KC-01            NaN\n",
       "Name: GeneExp_Subtype, Length: 629, dtype: object"
      ]
     },
     "execution_count": 43,
     "metadata": {},
     "output_type": "execute_result"
    }
   ],
   "source": [
    "clinical['GeneExp_Subtype']"
   ]
  },
  {
   "cell_type": "code",
   "execution_count": 44,
   "metadata": {},
   "outputs": [
    {
     "data": {
      "text/plain": [
       "sampleID\n",
       "TCGA-02-0001-01    Primary Tumor\n",
       "TCGA-02-0002-01              NaN\n",
       "TCGA-02-0003-01    Primary Tumor\n",
       "TCGA-02-0004-01    Primary Tumor\n",
       "TCGA-02-0006-01    Primary Tumor\n",
       "                       ...      \n",
       "TCGA-87-5896-01    Primary Tumor\n",
       "TCGA-OX-A56R-01    Primary Tumor\n",
       "TCGA-RR-A6KA-01    Primary Tumor\n",
       "TCGA-RR-A6KB-01    Primary Tumor\n",
       "TCGA-RR-A6KC-01    Primary Tumor\n",
       "Name: sample_type, Length: 629, dtype: object"
      ]
     },
     "execution_count": 44,
     "metadata": {},
     "output_type": "execute_result"
    }
   ],
   "source": [
    "clinical['sample_type']"
   ]
  },
  {
   "cell_type": "code",
   "execution_count": 45,
   "metadata": {},
   "outputs": [
    {
     "data": {
      "text/plain": [
       "array(['Classical', 'Neural', 'Proneural', 'Mesenchymal', nan],\n",
       "      dtype=object)"
      ]
     },
     "execution_count": 45,
     "metadata": {},
     "output_type": "execute_result"
    }
   ],
   "source": [
    "clinical.GeneExp_Subtype.unique()"
   ]
  },
  {
   "cell_type": "markdown",
   "metadata": {},
   "source": [
    "### Get True Subtype labels"
   ]
  },
  {
   "cell_type": "code",
   "execution_count": 46,
   "metadata": {},
   "outputs": [
    {
     "data": {
      "text/plain": [
       "sampleID\n",
       "TCGA-02-0001-01    Classical\n",
       "TCGA-02-0002-01       Neural\n",
       "TCGA-02-0003-01    Proneural\n",
       "Name: GeneExp_Subtype, dtype: object"
      ]
     },
     "execution_count": 46,
     "metadata": {},
     "output_type": "execute_result"
    }
   ],
   "source": [
    "subtypes = clinical['GeneExp_Subtype']\n",
    "subtypes= subtypes.T\n",
    "subtypes[:3]"
   ]
  },
  {
   "cell_type": "code",
   "execution_count": 47,
   "metadata": {},
   "outputs": [
    {
     "data": {
      "text/plain": [
       "TCGA-02-0001-01      Classical\n",
       "TCGA-02-0003-01      Proneural\n",
       "TCGA-02-0007-01      Proneural\n",
       "TCGA-02-0009-01      Classical\n",
       "TCGA-02-0010-01      Proneural\n",
       "                      ...     \n",
       "TCGA-76-6193-01    Mesenchymal\n",
       "TCGA-76-6282-01    Mesenchymal\n",
       "TCGA-76-6285-01      Proneural\n",
       "TCGA-81-5910-01      Classical\n",
       "TCGA-87-5896-01      Classical\n",
       "Name: GeneExp_Subtype, Length: 347, dtype: object"
      ]
     },
     "execution_count": 47,
     "metadata": {},
     "output_type": "execute_result"
    }
   ],
   "source": [
    "truelabels = subtypes[exp.index]\n",
    "truelabels"
   ]
  },
  {
   "cell_type": "code",
   "execution_count": 48,
   "metadata": {},
   "outputs": [],
   "source": [
    "types = clinical.GeneExp_Subtype.unique()\n",
    "classes = [1,2,3,4,5]"
   ]
  },
  {
   "cell_type": "code",
   "execution_count": 49,
   "metadata": {},
   "outputs": [],
   "source": [
    "for i in range(len(types)):\n",
    "    truelabels[truelabels==types[i]] = classes[i]"
   ]
  },
  {
   "cell_type": "markdown",
   "metadata": {},
   "source": [
    "### ['Classical', 'Neural', 'Proneural', 'Mesenchymal', nan]  [0,1,2,3,4]"
   ]
  },
  {
   "cell_type": "code",
   "execution_count": 50,
   "metadata": {},
   "outputs": [
    {
     "data": {
      "text/plain": [
       "array([1, 3, 4, 2], dtype=object)"
      ]
     },
     "execution_count": 50,
     "metadata": {},
     "output_type": "execute_result"
    }
   ],
   "source": [
    "truelabels.unique()"
   ]
  },
  {
   "cell_type": "code",
   "execution_count": 51,
   "metadata": {},
   "outputs": [
    {
     "data": {
      "text/plain": [
       "0"
      ]
     },
     "execution_count": 51,
     "metadata": {},
     "output_type": "execute_result"
    }
   ],
   "source": [
    "(truelabels==5).sum()"
   ]
  },
  {
   "cell_type": "code",
   "execution_count": 53,
   "metadata": {},
   "outputs": [
    {
     "data": {
      "text/plain": [
       "True"
      ]
     },
     "execution_count": 53,
     "metadata": {},
     "output_type": "execute_result"
    }
   ],
   "source": [
    "(exp.index == truelabels.index).all()"
   ]
  },
  {
   "cell_type": "code",
   "execution_count": null,
   "metadata": {},
   "outputs": [],
   "source": [
    "exp_t.index"
   ]
  },
  {
   "cell_type": "code",
   "execution_count": null,
   "metadata": {},
   "outputs": [],
   "source": [
    "truelabels.index"
   ]
  },
  {
   "cell_type": "code",
   "execution_count": 54,
   "metadata": {},
   "outputs": [],
   "source": [
    "truelabels.to_csv('data/true_subtype.txt', header=True, index=True, sep='\\t', mode='a')"
   ]
  }
 ],
 "metadata": {
  "kernelspec": {
   "display_name": "Python 3",
   "language": "python",
   "name": "python3"
  },
  "language_info": {
   "codemirror_mode": {
    "name": "ipython",
    "version": 3
   },
   "file_extension": ".py",
   "mimetype": "text/x-python",
   "name": "python",
   "nbconvert_exporter": "python",
   "pygments_lexer": "ipython3",
   "version": "3.7.4"
  }
 },
 "nbformat": 4,
 "nbformat_minor": 2
}
